{
 "cells": [
  {
   "cell_type": "markdown",
   "id": "6a0e8079-56a0-4940-a8d1-4201c27be13f",
   "metadata": {},
   "source": [
    "## Read the sample data from ZIP+4 Standard"
   ]
  },
  {
   "cell_type": "code",
   "execution_count": 8,
   "id": "8690af9e-269f-47e2-8a95-9dc212c99ba3",
   "metadata": {
    "execution": {
     "iopub.execute_input": "2022-10-23T08:23:06.723207Z",
     "iopub.status.busy": "2022-10-23T08:23:06.717999Z",
     "iopub.status.idle": "2022-10-23T08:23:07.681154Z",
     "shell.execute_reply": "2022-10-23T08:23:07.680451Z",
     "shell.execute_reply.started": "2022-10-23T08:23:06.723109Z"
    },
    "tags": []
   },
   "outputs": [],
   "source": [
    "import pandas as pd"
   ]
  },
  {
   "cell_type": "code",
   "execution_count": 9,
   "id": "89583d83-9121-4777-9204-663464ee2b76",
   "metadata": {
    "execution": {
     "iopub.execute_input": "2022-10-23T08:23:43.393073Z",
     "iopub.status.busy": "2022-10-23T08:23:43.392553Z",
     "iopub.status.idle": "2022-10-23T08:23:43.631460Z",
     "shell.execute_reply": "2022-10-23T08:23:43.630679Z",
     "shell.execute_reply.started": "2022-10-23T08:23:43.393027Z"
    },
    "tags": []
   },
   "outputs": [
    {
     "name": "stderr",
     "output_type": "stream",
     "text": [
      "/var/folders/l3/50s9_hdj54lb4yb3x0kgvpm8ccm355/T/ipykernel_37271/3674014620.py:1: DtypeWarning: Columns (20) have mixed types. Specify dtype option on import or set low_memory=False.\n",
      "  standard = pd.read_csv('ZIP+4-Database-Sample.csv')\n"
     ]
    }
   ],
   "source": [
    "standard = pd.read_csv('ZIP+4-Database-Sample.csv')"
   ]
  },
  {
   "cell_type": "code",
   "execution_count": 20,
   "id": "64eccad6-90bd-4d36-82db-a800171f91be",
   "metadata": {
    "execution": {
     "iopub.execute_input": "2022-10-23T09:34:46.146667Z",
     "iopub.status.busy": "2022-10-23T09:34:46.146274Z",
     "iopub.status.idle": "2022-10-23T09:34:46.176707Z",
     "shell.execute_reply": "2022-10-23T09:34:46.175959Z",
     "shell.execute_reply.started": "2022-10-23T09:34:46.146634Z"
    },
    "tags": []
   },
   "outputs": [
    {
     "data": {
      "text/html": [
       "<div>\n",
       "<style scoped>\n",
       "    .dataframe tbody tr th:only-of-type {\n",
       "        vertical-align: middle;\n",
       "    }\n",
       "\n",
       "    .dataframe tbody tr th {\n",
       "        vertical-align: top;\n",
       "    }\n",
       "\n",
       "    .dataframe thead th {\n",
       "        text-align: right;\n",
       "    }\n",
       "</style>\n",
       "<table border=\"1\" class=\"dataframe\">\n",
       "  <thead>\n",
       "    <tr style=\"text-align: right;\">\n",
       "      <th></th>\n",
       "      <th>ZipCode</th>\n",
       "      <th>UpdateKey</th>\n",
       "      <th>Action</th>\n",
       "      <th>RecordType</th>\n",
       "      <th>CarrierRoute</th>\n",
       "      <th>StPreDirAbbr</th>\n",
       "      <th>StName</th>\n",
       "      <th>StSuffixAbbr</th>\n",
       "      <th>StPostDirAbbr</th>\n",
       "      <th>AddressPrimaryLowNumber</th>\n",
       "      <th>...</th>\n",
       "      <th>UrbanizationKey</th>\n",
       "      <th>PreferredLastLineKey</th>\n",
       "      <th>ToLatitude</th>\n",
       "      <th>FromLatitude</th>\n",
       "      <th>ToLongitude</th>\n",
       "      <th>FromLongitude</th>\n",
       "      <th>CensusTract</th>\n",
       "      <th>CensusBlock</th>\n",
       "      <th>TLID</th>\n",
       "      <th>LatLonMultiMatch</th>\n",
       "    </tr>\n",
       "  </thead>\n",
       "  <tbody>\n",
       "    <tr>\n",
       "      <th>0</th>\n",
       "      <td>6468</td>\n",
       "      <td>V204156243</td>\n",
       "      <td>A</td>\n",
       "      <td>S</td>\n",
       "      <td>R014</td>\n",
       "      <td>NaN</td>\n",
       "      <td>KETTLE CREEK</td>\n",
       "      <td>LN</td>\n",
       "      <td>NaN</td>\n",
       "      <td>0000000031</td>\n",
       "      <td>...</td>\n",
       "      <td>NaN</td>\n",
       "      <td>V20389</td>\n",
       "      <td>41.340739</td>\n",
       "      <td>41.341034</td>\n",
       "      <td>-73.198094</td>\n",
       "      <td>-73.200015</td>\n",
       "      <td>100300.0</td>\n",
       "      <td>8004.0</td>\n",
       "      <td>3279602.0</td>\n",
       "      <td>NaN</td>\n",
       "    </tr>\n",
       "    <tr>\n",
       "      <th>1</th>\n",
       "      <td>6468</td>\n",
       "      <td>V204156244</td>\n",
       "      <td>A</td>\n",
       "      <td>S</td>\n",
       "      <td>R004</td>\n",
       "      <td>NaN</td>\n",
       "      <td>KIMBERLY</td>\n",
       "      <td>DR</td>\n",
       "      <td>NaN</td>\n",
       "      <td>0000000002</td>\n",
       "      <td>...</td>\n",
       "      <td>NaN</td>\n",
       "      <td>V20389</td>\n",
       "      <td>41.333892</td>\n",
       "      <td>41.335695</td>\n",
       "      <td>-73.240468</td>\n",
       "      <td>-73.241559</td>\n",
       "      <td>100200.0</td>\n",
       "      <td>3007.0</td>\n",
       "      <td>3286518.0</td>\n",
       "      <td>NaN</td>\n",
       "    </tr>\n",
       "    <tr>\n",
       "      <th>2</th>\n",
       "      <td>6468</td>\n",
       "      <td>V204156245</td>\n",
       "      <td>A</td>\n",
       "      <td>S</td>\n",
       "      <td>R004</td>\n",
       "      <td>NaN</td>\n",
       "      <td>KIMBERLY</td>\n",
       "      <td>DR</td>\n",
       "      <td>NaN</td>\n",
       "      <td>0000000001</td>\n",
       "      <td>...</td>\n",
       "      <td>NaN</td>\n",
       "      <td>V20389</td>\n",
       "      <td>41.333892</td>\n",
       "      <td>41.335695</td>\n",
       "      <td>-73.240468</td>\n",
       "      <td>-73.241559</td>\n",
       "      <td>100200.0</td>\n",
       "      <td>3007.0</td>\n",
       "      <td>3286518.0</td>\n",
       "      <td>NaN</td>\n",
       "    </tr>\n",
       "    <tr>\n",
       "      <th>3</th>\n",
       "      <td>6468</td>\n",
       "      <td>V204156246</td>\n",
       "      <td>A</td>\n",
       "      <td>S</td>\n",
       "      <td>R004</td>\n",
       "      <td>NaN</td>\n",
       "      <td>KIMBERLY</td>\n",
       "      <td>DR</td>\n",
       "      <td>NaN</td>\n",
       "      <td>0000000017</td>\n",
       "      <td>...</td>\n",
       "      <td>NaN</td>\n",
       "      <td>V20389</td>\n",
       "      <td>41.333892</td>\n",
       "      <td>41.335695</td>\n",
       "      <td>-73.240468</td>\n",
       "      <td>-73.241559</td>\n",
       "      <td>100200.0</td>\n",
       "      <td>3007.0</td>\n",
       "      <td>3286518.0</td>\n",
       "      <td>NaN</td>\n",
       "    </tr>\n",
       "    <tr>\n",
       "      <th>4</th>\n",
       "      <td>6468</td>\n",
       "      <td>V204156254</td>\n",
       "      <td>A</td>\n",
       "      <td>S</td>\n",
       "      <td>R007</td>\n",
       "      <td>NaN</td>\n",
       "      <td>LANTHORNE</td>\n",
       "      <td>RD</td>\n",
       "      <td>NaN</td>\n",
       "      <td>0000000001</td>\n",
       "      <td>...</td>\n",
       "      <td>NaN</td>\n",
       "      <td>V20389</td>\n",
       "      <td>41.319396</td>\n",
       "      <td>41.321396</td>\n",
       "      <td>-73.225458</td>\n",
       "      <td>-73.224958</td>\n",
       "      <td>100200.0</td>\n",
       "      <td>3030.0</td>\n",
       "      <td>3216859.0</td>\n",
       "      <td>Y</td>\n",
       "    </tr>\n",
       "    <tr>\n",
       "      <th>5</th>\n",
       "      <td>6468</td>\n",
       "      <td>V204156263</td>\n",
       "      <td>A</td>\n",
       "      <td>S</td>\n",
       "      <td>R004</td>\n",
       "      <td>NaN</td>\n",
       "      <td>LIMA</td>\n",
       "      <td>DR</td>\n",
       "      <td>NaN</td>\n",
       "      <td>0000000001</td>\n",
       "      <td>...</td>\n",
       "      <td>NaN</td>\n",
       "      <td>V20389</td>\n",
       "      <td>41.333095</td>\n",
       "      <td>41.334195</td>\n",
       "      <td>-73.245059</td>\n",
       "      <td>-73.243959</td>\n",
       "      <td>100200.0</td>\n",
       "      <td>3008.0</td>\n",
       "      <td>3216637.0</td>\n",
       "      <td>Y</td>\n",
       "    </tr>\n",
       "    <tr>\n",
       "      <th>6</th>\n",
       "      <td>6468</td>\n",
       "      <td>V204156265</td>\n",
       "      <td>A</td>\n",
       "      <td>S</td>\n",
       "      <td>R011</td>\n",
       "      <td>NaN</td>\n",
       "      <td>LITTLE DIET</td>\n",
       "      <td>RD</td>\n",
       "      <td>NaN</td>\n",
       "      <td>0000000001</td>\n",
       "      <td>...</td>\n",
       "      <td>NaN</td>\n",
       "      <td>V20389</td>\n",
       "      <td>41.334275</td>\n",
       "      <td>41.334030</td>\n",
       "      <td>-73.265516</td>\n",
       "      <td>-73.264263</td>\n",
       "      <td>100100.0</td>\n",
       "      <td>1027.0</td>\n",
       "      <td>3281228.0</td>\n",
       "      <td>Y</td>\n",
       "    </tr>\n",
       "    <tr>\n",
       "      <th>7</th>\n",
       "      <td>6468</td>\n",
       "      <td>V204156268</td>\n",
       "      <td>A</td>\n",
       "      <td>S</td>\n",
       "      <td>R007</td>\n",
       "      <td>NaN</td>\n",
       "      <td>LONGVIEW</td>\n",
       "      <td>RD</td>\n",
       "      <td>NaN</td>\n",
       "      <td>0000000002</td>\n",
       "      <td>...</td>\n",
       "      <td>NaN</td>\n",
       "      <td>V20389</td>\n",
       "      <td>41.327696</td>\n",
       "      <td>41.328196</td>\n",
       "      <td>-73.225058</td>\n",
       "      <td>-73.221958</td>\n",
       "      <td>100200.0</td>\n",
       "      <td>3018.0</td>\n",
       "      <td>3216845.0</td>\n",
       "      <td>Y</td>\n",
       "    </tr>\n",
       "    <tr>\n",
       "      <th>8</th>\n",
       "      <td>6468</td>\n",
       "      <td>V204156269</td>\n",
       "      <td>A</td>\n",
       "      <td>S</td>\n",
       "      <td>R007</td>\n",
       "      <td>NaN</td>\n",
       "      <td>LONGVIEW</td>\n",
       "      <td>RD</td>\n",
       "      <td>NaN</td>\n",
       "      <td>0000000054</td>\n",
       "      <td>...</td>\n",
       "      <td>NaN</td>\n",
       "      <td>V20389</td>\n",
       "      <td>41.327196</td>\n",
       "      <td>41.327696</td>\n",
       "      <td>-73.227958</td>\n",
       "      <td>-73.225058</td>\n",
       "      <td>100200.0</td>\n",
       "      <td>3013.0</td>\n",
       "      <td>3216847.0</td>\n",
       "      <td>Y</td>\n",
       "    </tr>\n",
       "    <tr>\n",
       "      <th>9</th>\n",
       "      <td>6468</td>\n",
       "      <td>V204156270</td>\n",
       "      <td>A</td>\n",
       "      <td>S</td>\n",
       "      <td>R007</td>\n",
       "      <td>NaN</td>\n",
       "      <td>LONGVIEW</td>\n",
       "      <td>RD</td>\n",
       "      <td>NaN</td>\n",
       "      <td>0000000001</td>\n",
       "      <td>...</td>\n",
       "      <td>NaN</td>\n",
       "      <td>V20389</td>\n",
       "      <td>41.327696</td>\n",
       "      <td>41.328196</td>\n",
       "      <td>-73.225058</td>\n",
       "      <td>-73.221958</td>\n",
       "      <td>100200.0</td>\n",
       "      <td>3018.0</td>\n",
       "      <td>3216845.0</td>\n",
       "      <td>NaN</td>\n",
       "    </tr>\n",
       "  </tbody>\n",
       "</table>\n",
       "<p>10 rows × 37 columns</p>\n",
       "</div>"
      ],
      "text/plain": [
       "   ZipCode   UpdateKey Action RecordType CarrierRoute StPreDirAbbr  \\\n",
       "0     6468  V204156243      A          S         R014          NaN   \n",
       "1     6468  V204156244      A          S         R004          NaN   \n",
       "2     6468  V204156245      A          S         R004          NaN   \n",
       "3     6468  V204156246      A          S         R004          NaN   \n",
       "4     6468  V204156254      A          S         R007          NaN   \n",
       "5     6468  V204156263      A          S         R004          NaN   \n",
       "6     6468  V204156265      A          S         R011          NaN   \n",
       "7     6468  V204156268      A          S         R007          NaN   \n",
       "8     6468  V204156269      A          S         R007          NaN   \n",
       "9     6468  V204156270      A          S         R007          NaN   \n",
       "\n",
       "         StName StSuffixAbbr StPostDirAbbr AddressPrimaryLowNumber  ...  \\\n",
       "0  KETTLE CREEK           LN           NaN              0000000031  ...   \n",
       "1      KIMBERLY           DR           NaN              0000000002  ...   \n",
       "2      KIMBERLY           DR           NaN              0000000001  ...   \n",
       "3      KIMBERLY           DR           NaN              0000000017  ...   \n",
       "4     LANTHORNE           RD           NaN              0000000001  ...   \n",
       "5          LIMA           DR           NaN              0000000001  ...   \n",
       "6   LITTLE DIET           RD           NaN              0000000001  ...   \n",
       "7      LONGVIEW           RD           NaN              0000000002  ...   \n",
       "8      LONGVIEW           RD           NaN              0000000054  ...   \n",
       "9      LONGVIEW           RD           NaN              0000000001  ...   \n",
       "\n",
       "  UrbanizationKey PreferredLastLineKey ToLatitude FromLatitude ToLongitude  \\\n",
       "0             NaN               V20389  41.340739    41.341034  -73.198094   \n",
       "1             NaN               V20389  41.333892    41.335695  -73.240468   \n",
       "2             NaN               V20389  41.333892    41.335695  -73.240468   \n",
       "3             NaN               V20389  41.333892    41.335695  -73.240468   \n",
       "4             NaN               V20389  41.319396    41.321396  -73.225458   \n",
       "5             NaN               V20389  41.333095    41.334195  -73.245059   \n",
       "6             NaN               V20389  41.334275    41.334030  -73.265516   \n",
       "7             NaN               V20389  41.327696    41.328196  -73.225058   \n",
       "8             NaN               V20389  41.327196    41.327696  -73.227958   \n",
       "9             NaN               V20389  41.327696    41.328196  -73.225058   \n",
       "\n",
       "  FromLongitude CensusTract CensusBlock       TLID LatLonMultiMatch  \n",
       "0    -73.200015    100300.0      8004.0  3279602.0              NaN  \n",
       "1    -73.241559    100200.0      3007.0  3286518.0              NaN  \n",
       "2    -73.241559    100200.0      3007.0  3286518.0              NaN  \n",
       "3    -73.241559    100200.0      3007.0  3286518.0              NaN  \n",
       "4    -73.224958    100200.0      3030.0  3216859.0                Y  \n",
       "5    -73.243959    100200.0      3008.0  3216637.0                Y  \n",
       "6    -73.264263    100100.0      1027.0  3281228.0                Y  \n",
       "7    -73.221958    100200.0      3018.0  3216845.0                Y  \n",
       "8    -73.225058    100200.0      3013.0  3216847.0                Y  \n",
       "9    -73.221958    100200.0      3018.0  3216845.0              NaN  \n",
       "\n",
       "[10 rows x 37 columns]"
      ]
     },
     "execution_count": 20,
     "metadata": {},
     "output_type": "execute_result"
    }
   ],
   "source": [
    "standard.head(10)"
   ]
  },
  {
   "cell_type": "code",
   "execution_count": 25,
   "id": "9bbcedba-d3c1-4e47-aa5f-ed17a26f5dd9",
   "metadata": {
    "execution": {
     "iopub.execute_input": "2022-10-23T09:35:47.039412Z",
     "iopub.status.busy": "2022-10-23T09:35:47.039019Z",
     "iopub.status.idle": "2022-10-23T09:35:47.050242Z",
     "shell.execute_reply": "2022-10-23T09:35:47.048474Z",
     "shell.execute_reply.started": "2022-10-23T09:35:47.039377Z"
    },
    "tags": []
   },
   "outputs": [
    {
     "data": {
      "text/plain": [
       "31"
      ]
     },
     "execution_count": 25,
     "metadata": {},
     "output_type": "execute_result"
    }
   ],
   "source": [
    "len(set(standard[standard['ZipCode']==6468]['CarrierRoute']))"
   ]
  },
  {
   "cell_type": "code",
   "execution_count": 21,
   "id": "2a56b53b-5a31-42f3-bebc-3e983dce791d",
   "metadata": {
    "execution": {
     "iopub.execute_input": "2022-10-23T09:34:53.370493Z",
     "iopub.status.busy": "2022-10-23T09:34:53.369753Z",
     "iopub.status.idle": "2022-10-23T09:34:53.379853Z",
     "shell.execute_reply": "2022-10-23T09:34:53.378353Z",
     "shell.execute_reply.started": "2022-10-23T09:34:53.370392Z"
    },
    "tags": []
   },
   "outputs": [
    {
     "data": {
      "text/plain": [
       "ZipCode                           6468\n",
       "UpdateKey                   V204156254\n",
       "Action                               A\n",
       "RecordType                           S\n",
       "CarrierRoute                      R007\n",
       "StPreDirAbbr                       NaN\n",
       "StName                       LANTHORNE\n",
       "StSuffixAbbr                        RD\n",
       "StPostDirAbbr                      NaN\n",
       "AddressPrimaryLowNumber     0000000001\n",
       "AddressPrimaryHighNumber    0000000099\n",
       "AddressPrimaryEvenOdd                B\n",
       "BuildingName                       NaN\n",
       "AddressSecAbbr                     NaN\n",
       "AddressSecLowNumber                NaN\n",
       "AddressSecHighNumber               NaN\n",
       "AddressSecOddEven                  NaN\n",
       "Plus4Low                          1728\n",
       "Plus4High                         1728\n",
       "BaseAlternateCode                    B\n",
       "LACSStatus                         NaN\n",
       "GovernmentBuilding                 NaN\n",
       "FinanceNumber                    84392\n",
       "State                               CT\n",
       "CountyFIPS                           1\n",
       "CongressionalDistrict                4\n",
       "MunicipalityKey                    NaN\n",
       "UrbanizationKey                    NaN\n",
       "PreferredLastLineKey            V20389\n",
       "ToLatitude                   41.319396\n",
       "FromLatitude                 41.321396\n",
       "ToLongitude                 -73.225458\n",
       "FromLongitude               -73.224958\n",
       "CensusTract                   100200.0\n",
       "CensusBlock                     3030.0\n",
       "TLID                         3216859.0\n",
       "LatLonMultiMatch                     Y\n",
       "Name: 4, dtype: object"
      ]
     },
     "execution_count": 21,
     "metadata": {},
     "output_type": "execute_result"
    }
   ],
   "source": [
    "standard.iloc[4]"
   ]
  },
  {
   "cell_type": "code",
   "execution_count": 11,
   "id": "c07ea60e-3d2f-476e-880d-545dc8753f83",
   "metadata": {
    "execution": {
     "iopub.execute_input": "2022-10-23T08:26:55.991478Z",
     "iopub.status.busy": "2022-10-23T08:26:55.990423Z",
     "iopub.status.idle": "2022-10-23T08:26:56.113048Z",
     "shell.execute_reply": "2022-10-23T08:26:56.112295Z",
     "shell.execute_reply.started": "2022-10-23T08:26:55.991425Z"
    },
    "tags": []
   },
   "outputs": [
    {
     "data": {
      "text/plain": [
       "ZipCode                         0\n",
       "UpdateKey                       0\n",
       "Action                          0\n",
       "RecordType                      0\n",
       "CarrierRoute                    0\n",
       "StPreDirAbbr                46961\n",
       "StName                          0\n",
       "StSuffixAbbr                 1258\n",
       "StPostDirAbbr               47923\n",
       "AddressPrimaryLowNumber        74\n",
       "AddressPrimaryHighNumber       74\n",
       "AddressPrimaryEvenOdd           0\n",
       "BuildingName                42285\n",
       "AddressSecAbbr              37682\n",
       "AddressSecLowNumber         37780\n",
       "AddressSecHighNumber        37780\n",
       "AddressSecOddEven           33726\n",
       "Plus4Low                        0\n",
       "Plus4High                       0\n",
       "BaseAlternateCode               0\n",
       "LACSStatus                  47990\n",
       "GovernmentBuilding          48188\n",
       "FinanceNumber                   0\n",
       "State                           0\n",
       "CountyFIPS                      0\n",
       "CongressionalDistrict           0\n",
       "MunicipalityKey             48188\n",
       "UrbanizationKey             48188\n",
       "PreferredLastLineKey            0\n",
       "ToLatitude                      0\n",
       "FromLatitude                    0\n",
       "ToLongitude                     0\n",
       "FromLongitude                   0\n",
       "CensusTract                 19348\n",
       "CensusBlock                 19348\n",
       "TLID                        19348\n",
       "LatLonMultiMatch            34217\n",
       "dtype: int64"
      ]
     },
     "execution_count": 11,
     "metadata": {},
     "output_type": "execute_result"
    }
   ],
   "source": [
    "standard.isna().sum()"
   ]
  },
  {
   "cell_type": "code",
   "execution_count": 16,
   "id": "159a0ee3-e1a1-45da-9f86-c2f0526c6ca3",
   "metadata": {
    "execution": {
     "iopub.execute_input": "2022-10-23T08:29:28.338433Z",
     "iopub.status.busy": "2022-10-23T08:29:28.337985Z",
     "iopub.status.idle": "2022-10-23T08:29:28.455066Z",
     "shell.execute_reply": "2022-10-23T08:29:28.454422Z",
     "shell.execute_reply.started": "2022-10-23T08:29:28.338400Z"
    },
    "tags": []
   },
   "outputs": [
    {
     "data": {
      "text/plain": [
       "48.64864864864865"
      ]
     },
     "execution_count": 16,
     "metadata": {},
     "output_type": "execute_result"
    }
   ],
   "source": [
    "sum(standard.isna().sum() > 0) / len(standard.columns) * 100"
   ]
  },
  {
   "cell_type": "markdown",
   "id": "b74c534b-e025-4148-b588-2e620e52b70a",
   "metadata": {},
   "source": [
    "## Recreation of ZIP-codes.com data"
   ]
  },
  {
   "cell_type": "markdown",
   "id": "ec84c21f-5c8a-47ec-af4d-8f44286e9d12",
   "metadata": {},
   "source": [
    "### Read from "
   ]
  },
  {
   "cell_type": "markdown",
   "id": "f7b20d3a-03e7-405a-8f97-d1dfb377b53a",
   "metadata": {},
   "source": [
    "## Enrich from API"
   ]
  },
  {
   "cell_type": "markdown",
   "id": "18a1af53-be6f-4473-83c8-b216b3fdced1",
   "metadata": {},
   "source": [
    "^ This much percents of columns has `null` in them"
   ]
  },
  {
   "cell_type": "markdown",
   "id": "923dc621-219b-4ec3-923a-94992719f459",
   "metadata": {},
   "source": [
    "1. Getting your secret key at\n",
    "2. Save to file .secret with structure\n",
    "```\n",
    "key: *paste_your_key_here*\n",
    "```\n",
    "3. Run this notebook"
   ]
  },
  {
   "cell_type": "code",
   "execution_count": 3,
   "id": "3f446b71-7f99-4504-b112-38130608529e",
   "metadata": {
    "execution": {
     "iopub.execute_input": "2022-10-23T08:09:00.741261Z",
     "iopub.status.busy": "2022-10-23T08:09:00.740890Z",
     "iopub.status.idle": "2022-10-23T08:09:00.748823Z",
     "shell.execute_reply": "2022-10-23T08:09:00.747239Z",
     "shell.execute_reply.started": "2022-10-23T08:09:00.741235Z"
    },
    "tags": []
   },
   "outputs": [],
   "source": [
    "import yaml\n",
    "\n",
    "with open(\".secret\", \"r\") as stream:\n",
    "    try:\n",
    "        secret=yaml.safe_load(stream)\n",
    "    except yaml.YAMLError as exc:\n",
    "        print(exc)"
   ]
  },
  {
   "cell_type": "code",
   "execution_count": 7,
   "id": "13514e17-b290-4717-86bc-0ed065597509",
   "metadata": {
    "execution": {
     "iopub.execute_input": "2022-10-23T08:12:47.033734Z",
     "iopub.status.busy": "2022-10-23T08:12:47.033196Z",
     "iopub.status.idle": "2022-10-23T08:12:51.876487Z",
     "shell.execute_reply": "2022-10-23T08:12:51.874741Z",
     "shell.execute_reply.started": "2022-10-23T08:12:47.033694Z"
    },
    "tags": []
   },
   "outputs": [
    {
     "data": {
      "text/plain": [
       "[{'NAME': 'Maryland', 'B25034_010E': 127820.0, 'state': '24'}]"
      ]
     },
     "execution_count": 7,
     "metadata": {},
     "output_type": "execute_result"
    }
   ],
   "source": [
    "from census import Census\n",
    "from us import states\n",
    "\n",
    "c = Census(secret['key'])\n",
    "c.acs5.get(('NAME', 'B25034_010E'),\n",
    "          {'for': 'state:{}'.format(states.MD.fips)})"
   ]
  }
 ],
 "metadata": {
  "kernelspec": {
   "display_name": "Python 3 (ipykernel)",
   "language": "python",
   "name": "python3"
  },
  "language_info": {
   "codemirror_mode": {
    "name": "ipython",
    "version": 3
   },
   "file_extension": ".py",
   "mimetype": "text/x-python",
   "name": "python",
   "nbconvert_exporter": "python",
   "pygments_lexer": "ipython3",
   "version": "3.8.5"
  }
 },
 "nbformat": 4,
 "nbformat_minor": 5
}
