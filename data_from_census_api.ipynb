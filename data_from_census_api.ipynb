{
 "cells": [
  {
   "cell_type": "markdown",
   "id": "2a217fbd-4133-4617-b8cd-01b2f6dc4e3e",
   "metadata": {},
   "source": [
    "https://www.census.gov/data/developers/data-sets/acs-1year.html\n",
    "\n",
    "Table being used:\n",
    "- S0101 AGE AND SEX \n",
    "- S2603 CHARACTERISTICS OF THE GROUP QUARTERS POPULATION BY GROUP QUARTERS TYPE (5 TYPES) "
   ]
  },
  {
   "cell_type": "markdown",
   "id": "e4c283e6-8bbb-4517-b73a-aeae4827d4d9",
   "metadata": {},
   "source": [
    "Example calls: https://api.census.gov/data/2021/acs/acs1/examples.html which is from https://www.census.gov/data/developers/data-sets/acs-1year.html. Video instruction: https://www.youtube.com/watch?v=Gv95TSk5nNI&t=1s\n",
    "\n",
    "\n",
    "An example https://api.census.gov/data/2021/acs/acs1?get=NAME,B01001_001E&for=place:*&in=state:*. This looks like it gets B01001_001E (Number of Estimate!!Total: SEX BY AGE) by places\n",
    "\n",
    "A sample call to get variable B01001_001E (Variable are from https://www.census.gov/data/developers/data-sets/acs-1year.html > 2021 ACS Detailed Tables Variables [ html | xml | json ]"
   ]
  },
  {
   "cell_type": "code",
   "execution_count": 7,
   "id": "dab91bc2-1259-433b-b369-ae826c13bca2",
   "metadata": {},
   "outputs": [],
   "source": [
    "#!pip install pyyaml"
   ]
  },
  {
   "cell_type": "code",
   "execution_count": 12,
   "id": "e8cbbfb1-5dde-486d-8f6e-0182aeadcb16",
   "metadata": {},
   "outputs": [],
   "source": [
    "import yaml\n",
    "\n",
    "with open(\".secret\", \"r\") as stream:\n",
    "    try:\n",
    "        secret=yaml.safe_load(stream)\n",
    "    except yaml.YAMLError as exc:\n",
    "        print(exc)\n",
    "        \n",
    "c = Census(secret['key'])\n",
    "#c.acs5.get(('NAME', 'S0101'))"
   ]
  },
  {
   "cell_type": "code",
   "execution_count": 15,
   "id": "3c4da361-3731-4bdf-878b-8f3e771f1653",
   "metadata": {},
   "outputs": [
    {
     "data": {
      "text/plain": [
       "<module 'us.states' from '/Users/chaum/miniconda3/envs/chem/lib/python3.8/site-packages/us/states.py'>"
      ]
     },
     "execution_count": 15,
     "metadata": {},
     "output_type": "execute_result"
    }
   ],
   "source": [
    "states"
   ]
  },
  {
   "cell_type": "code",
   "execution_count": 17,
   "id": "d21efd6d-99c9-4f79-8f2c-070e2585a8b7",
   "metadata": {},
   "outputs": [],
   "source": [
    "result_2010 = c.sf1.get(\n",
    "            ('P008001',  # total\n",
    "             'P008003',  # white\n",
    "             'P008004',  # black\n",
    "             'P008006',  # asian\n",
    "             'P008010',  # latino\n",
    "             ),\n",
    "            geo={'for': 'place:53476', 'in': 'state:06'},\n",
    ")"
   ]
  },
  {
   "cell_type": "code",
   "execution_count": 18,
   "id": "080bbf0f-7d97-431a-aaac-9f432e683da0",
   "metadata": {},
   "outputs": [
    {
     "data": {
      "text/plain": [
       "[{'P008001': 7461.0,\n",
       "  'P008003': 6555.0,\n",
       "  'P008004': 42.0,\n",
       "  'P008006': 158.0,\n",
       "  'P008010': 201.0,\n",
       "  'state': '06',\n",
       "  'place': '53476'}]"
      ]
     },
     "execution_count": 18,
     "metadata": {},
     "output_type": "execute_result"
    }
   ],
   "source": [
    "result_2010"
   ]
  },
  {
   "cell_type": "code",
   "execution_count": null,
   "id": "ad6c5b6a-84b3-4d7c-a5f5-a081b7d9bbcc",
   "metadata": {},
   "outputs": [],
   "source": []
  },
  {
   "cell_type": "code",
   "execution_count": 26,
   "id": "957b2269-0644-43f1-bddf-1bffca32d689",
   "metadata": {},
   "outputs": [
    {
     "data": {
      "text/plain": [
       "52"
      ]
     },
     "execution_count": 26,
     "metadata": {},
     "output_type": "execute_result"
    }
   ],
   "source": [
    "len(c.acs5.state('B01001_004E', Census.ALL))"
   ]
  },
  {
   "cell_type": "code",
   "execution_count": 25,
   "id": "98bd11bc-2292-41a7-b3ce-d51779075b29",
   "metadata": {},
   "outputs": [
    {
     "ename": "TypeError",
     "evalue": "state_zipcode() missing 2 required positional arguments: 'state_fips' and 'zcta'",
     "output_type": "error",
     "traceback": [
      "\u001b[0;31m---------------------------------------------------------------------------\u001b[0m",
      "\u001b[0;31mTypeError\u001b[0m                                 Traceback (most recent call last)",
      "Cell \u001b[0;32mIn [25], line 1\u001b[0m\n\u001b[0;32m----> 1\u001b[0m \u001b[43mc\u001b[49m\u001b[38;5;241;43m.\u001b[39;49m\u001b[43macs5\u001b[49m\u001b[38;5;241;43m.\u001b[39;49m\u001b[43mstate_zipcode\u001b[49m\u001b[43m(\u001b[49m\u001b[43mCensus\u001b[49m\u001b[38;5;241;43m.\u001b[39;49m\u001b[43mALL\u001b[49m\u001b[43m)\u001b[49m\n",
      "File \u001b[0;32m~/miniconda3/envs/chem/lib/python3.8/site-packages/census/core.py:50\u001b[0m, in \u001b[0;36msupported_years.<locals>.inner.<locals>.wrapper\u001b[0;34m(self, *args, **kwargs)\u001b[0m\n\u001b[1;32m     47\u001b[0m \u001b[38;5;28;01mif\u001b[39;00m \u001b[38;5;28mint\u001b[39m(year) \u001b[38;5;129;01mnot\u001b[39;00m \u001b[38;5;129;01min\u001b[39;00m _years:\n\u001b[1;32m     48\u001b[0m     \u001b[38;5;28;01mraise\u001b[39;00m UnsupportedYearException(\n\u001b[1;32m     49\u001b[0m         \u001b[38;5;124m'\u001b[39m\u001b[38;5;124mGeography is not available in \u001b[39m\u001b[38;5;132;01m{}\u001b[39;00m\u001b[38;5;124m. Available years include \u001b[39m\u001b[38;5;132;01m{}\u001b[39;00m\u001b[38;5;124m'\u001b[39m\u001b[38;5;241m.\u001b[39mformat(year, _years))\n\u001b[0;32m---> 50\u001b[0m \u001b[38;5;28;01mreturn\u001b[39;00m \u001b[43mfunc\u001b[49m\u001b[43m(\u001b[49m\u001b[38;5;28;43mself\u001b[39;49m\u001b[43m,\u001b[49m\u001b[43m \u001b[49m\u001b[38;5;241;43m*\u001b[39;49m\u001b[43margs\u001b[49m\u001b[43m,\u001b[49m\u001b[43m \u001b[49m\u001b[38;5;241;43m*\u001b[39;49m\u001b[38;5;241;43m*\u001b[39;49m\u001b[43mkwargs\u001b[49m\u001b[43m)\u001b[49m\n",
      "\u001b[0;31mTypeError\u001b[0m: state_zipcode() missing 2 required positional arguments: 'state_fips' and 'zcta'"
     ]
    }
   ],
   "source": [
    "c.acs5.state_zipcode(Census.ALL)"
   ]
  },
  {
   "cell_type": "code",
   "execution_count": 16,
   "id": "8c7e7565-89a3-4f61-aabf-a1e31f1559d8",
   "metadata": {},
   "outputs": [
    {
     "ename": "TypeError",
     "evalue": "string indices must be integers",
     "output_type": "error",
     "traceback": [
      "\u001b[0;31m---------------------------------------------------------------------------\u001b[0m",
      "\u001b[0;31mTypeError\u001b[0m                                 Traceback (most recent call last)",
      "Cell \u001b[0;32mIn [16], line 1\u001b[0m\n\u001b[0;32m----> 1\u001b[0m \u001b[43mc\u001b[49m\u001b[38;5;241;43m.\u001b[39;49m\u001b[43macs5\u001b[49m\u001b[38;5;241;43m.\u001b[39;49m\u001b[43mget\u001b[49m\u001b[43m(\u001b[49m\u001b[38;5;124;43m'\u001b[39;49m\u001b[38;5;124;43mS0101\u001b[39;49m\u001b[38;5;124;43m'\u001b[39;49m\u001b[43m,\u001b[49m\u001b[43m \u001b[49m\u001b[38;5;124;43m'\u001b[39;49m\u001b[38;5;124;43mzipcode\u001b[39;49m\u001b[38;5;124;43m'\u001b[39;49m\u001b[43m)\u001b[49m\n",
      "File \u001b[0;32m~/miniconda3/envs/chem/lib/python3.8/site-packages/census/core.py:313\u001b[0m, in \u001b[0;36mACSClient.get\u001b[0;34m(self, *args, **kwargs)\u001b[0m\n\u001b[1;32m    310\u001b[0m \u001b[38;5;28;01mdef\u001b[39;00m \u001b[38;5;21mget\u001b[39m(\u001b[38;5;28mself\u001b[39m, \u001b[38;5;241m*\u001b[39margs, \u001b[38;5;241m*\u001b[39m\u001b[38;5;241m*\u001b[39mkwargs):\n\u001b[1;32m    311\u001b[0m     \u001b[38;5;28mself\u001b[39m\u001b[38;5;241m.\u001b[39m_switch_endpoints(kwargs\u001b[38;5;241m.\u001b[39mget(\u001b[38;5;124m'\u001b[39m\u001b[38;5;124myear\u001b[39m\u001b[38;5;124m'\u001b[39m, \u001b[38;5;28mself\u001b[39m\u001b[38;5;241m.\u001b[39mdefault_year))\n\u001b[0;32m--> 313\u001b[0m     \u001b[38;5;28;01mreturn\u001b[39;00m \u001b[38;5;28;43msuper\u001b[39;49m\u001b[43m(\u001b[49m\u001b[43mACSClient\u001b[49m\u001b[43m,\u001b[49m\u001b[43m \u001b[49m\u001b[38;5;28;43mself\u001b[39;49m\u001b[43m)\u001b[49m\u001b[38;5;241;43m.\u001b[39;49m\u001b[43mget\u001b[49m\u001b[43m(\u001b[49m\u001b[38;5;241;43m*\u001b[39;49m\u001b[43margs\u001b[49m\u001b[43m,\u001b[49m\u001b[43m \u001b[49m\u001b[38;5;241;43m*\u001b[39;49m\u001b[38;5;241;43m*\u001b[39;49m\u001b[43mkwargs\u001b[49m\u001b[43m)\u001b[49m\n",
      "File \u001b[0;32m~/miniconda3/envs/chem/lib/python3.8/site-packages/census/core.py:159\u001b[0m, in \u001b[0;36mClient.get\u001b[0;34m(self, fields, geo, year, **kwargs)\u001b[0m\n\u001b[1;32m    156\u001b[0m sort_by_geoid \u001b[38;5;241m=\u001b[39m \u001b[38;5;28mlen\u001b[39m(fields) \u001b[38;5;241m>\u001b[39m \u001b[38;5;241m49\u001b[39m \u001b[38;5;129;01mand\u001b[39;00m (\u001b[38;5;129;01mnot\u001b[39;00m year \u001b[38;5;129;01mor\u001b[39;00m year \u001b[38;5;241m>\u001b[39m \u001b[38;5;241m2009\u001b[39m)\n\u001b[1;32m    157\u001b[0m all_results \u001b[38;5;241m=\u001b[39m (\u001b[38;5;28mself\u001b[39m\u001b[38;5;241m.\u001b[39mquery(forty_nine_fields, geo, year, sort_by_geoid\u001b[38;5;241m=\u001b[39msort_by_geoid, \u001b[38;5;241m*\u001b[39m\u001b[38;5;241m*\u001b[39mkwargs)\n\u001b[1;32m    158\u001b[0m                \u001b[38;5;28;01mfor\u001b[39;00m forty_nine_fields \u001b[38;5;129;01min\u001b[39;00m chunks(fields, \u001b[38;5;241m49\u001b[39m))\n\u001b[0;32m--> 159\u001b[0m merged_results \u001b[38;5;241m=\u001b[39m [merge(result) \u001b[38;5;28;01mfor\u001b[39;00m result \u001b[38;5;129;01min\u001b[39;00m \u001b[38;5;28;43mzip\u001b[39;49m\u001b[43m(\u001b[49m\u001b[38;5;241;43m*\u001b[39;49m\u001b[43mall_results\u001b[49m\u001b[43m)\u001b[49m]\n\u001b[1;32m    161\u001b[0m \u001b[38;5;28;01mreturn\u001b[39;00m merged_results\n",
      "File \u001b[0;32m~/miniconda3/envs/chem/lib/python3.8/site-packages/census/core.py:157\u001b[0m, in \u001b[0;36m<genexpr>\u001b[0;34m(.0)\u001b[0m\n\u001b[1;32m    150\u001b[0m \u001b[38;5;124;03m\"\"\"\u001b[39;00m\n\u001b[1;32m    151\u001b[0m \u001b[38;5;124;03mThe API only accepts up to 50 fields on each query.\u001b[39;00m\n\u001b[1;32m    152\u001b[0m \u001b[38;5;124;03mChunk requests, and use the unique GEO_ID to match up the chunks\u001b[39;00m\n\u001b[1;32m    153\u001b[0m \u001b[38;5;124;03min case the responses are in different orders.\u001b[39;00m\n\u001b[1;32m    154\u001b[0m \u001b[38;5;124;03mGEO_ID is not reliably present in pre-2010 requests.\u001b[39;00m\n\u001b[1;32m    155\u001b[0m \u001b[38;5;124;03m\"\"\"\u001b[39;00m\n\u001b[1;32m    156\u001b[0m sort_by_geoid \u001b[38;5;241m=\u001b[39m \u001b[38;5;28mlen\u001b[39m(fields) \u001b[38;5;241m>\u001b[39m \u001b[38;5;241m49\u001b[39m \u001b[38;5;129;01mand\u001b[39;00m (\u001b[38;5;129;01mnot\u001b[39;00m year \u001b[38;5;129;01mor\u001b[39;00m year \u001b[38;5;241m>\u001b[39m \u001b[38;5;241m2009\u001b[39m)\n\u001b[0;32m--> 157\u001b[0m all_results \u001b[38;5;241m=\u001b[39m (\u001b[38;5;28;43mself\u001b[39;49m\u001b[38;5;241;43m.\u001b[39;49m\u001b[43mquery\u001b[49m\u001b[43m(\u001b[49m\u001b[43mforty_nine_fields\u001b[49m\u001b[43m,\u001b[49m\u001b[43m \u001b[49m\u001b[43mgeo\u001b[49m\u001b[43m,\u001b[49m\u001b[43m \u001b[49m\u001b[43myear\u001b[49m\u001b[43m,\u001b[49m\u001b[43m \u001b[49m\u001b[43msort_by_geoid\u001b[49m\u001b[38;5;241;43m=\u001b[39;49m\u001b[43msort_by_geoid\u001b[49m\u001b[43m,\u001b[49m\u001b[43m \u001b[49m\u001b[38;5;241;43m*\u001b[39;49m\u001b[38;5;241;43m*\u001b[39;49m\u001b[43mkwargs\u001b[49m\u001b[43m)\u001b[49m\n\u001b[1;32m    158\u001b[0m                \u001b[38;5;28;01mfor\u001b[39;00m forty_nine_fields \u001b[38;5;129;01min\u001b[39;00m chunks(fields, \u001b[38;5;241m49\u001b[39m))\n\u001b[1;32m    159\u001b[0m merged_results \u001b[38;5;241m=\u001b[39m [merge(result) \u001b[38;5;28;01mfor\u001b[39;00m result \u001b[38;5;129;01min\u001b[39;00m \u001b[38;5;28mzip\u001b[39m(\u001b[38;5;241m*\u001b[39mall_results)]\n\u001b[1;32m    161\u001b[0m \u001b[38;5;28;01mreturn\u001b[39;00m merged_results\n",
      "File \u001b[0;32m~/miniconda3/envs/chem/lib/python3.8/site-packages/census/core.py:60\u001b[0m, in \u001b[0;36mretry_on_transient_error.<locals>.wrapper\u001b[0;34m(self, *args, **kwargs)\u001b[0m\n\u001b[1;32m     58\u001b[0m \u001b[38;5;28;01mfor\u001b[39;00m _ \u001b[38;5;129;01min\u001b[39;00m \u001b[38;5;28mrange\u001b[39m(\u001b[38;5;28mmax\u001b[39m(\u001b[38;5;28mself\u001b[39m\u001b[38;5;241m.\u001b[39mretries \u001b[38;5;241m-\u001b[39m \u001b[38;5;241m1\u001b[39m, \u001b[38;5;241m0\u001b[39m)):\n\u001b[1;32m     59\u001b[0m     \u001b[38;5;28;01mtry\u001b[39;00m:\n\u001b[0;32m---> 60\u001b[0m         result \u001b[38;5;241m=\u001b[39m \u001b[43mfunc\u001b[49m\u001b[43m(\u001b[49m\u001b[38;5;28;43mself\u001b[39;49m\u001b[43m,\u001b[49m\u001b[43m \u001b[49m\u001b[38;5;241;43m*\u001b[39;49m\u001b[43margs\u001b[49m\u001b[43m,\u001b[49m\u001b[43m \u001b[49m\u001b[38;5;241;43m*\u001b[39;49m\u001b[38;5;241;43m*\u001b[39;49m\u001b[43mkwargs\u001b[49m\u001b[43m)\u001b[49m\n\u001b[1;32m     61\u001b[0m     \u001b[38;5;28;01mexcept\u001b[39;00m CensusException \u001b[38;5;28;01mas\u001b[39;00m e:\n\u001b[1;32m     62\u001b[0m         \u001b[38;5;28;01mif\u001b[39;00m \u001b[38;5;124m\"\u001b[39m\u001b[38;5;124mThere was an error while running your query.  We\u001b[39m\u001b[38;5;124m'\u001b[39m\u001b[38;5;124mve logged the error and we\u001b[39m\u001b[38;5;124m'\u001b[39m\u001b[38;5;124mll correct it ASAP.  Sorry for the inconvenience.\u001b[39m\u001b[38;5;124m\"\u001b[39m \u001b[38;5;129;01min\u001b[39;00m \u001b[38;5;28mstr\u001b[39m(e):\n",
      "File \u001b[0;32m~/miniconda3/envs/chem/lib/python3.8/site-packages/census/core.py:179\u001b[0m, in \u001b[0;36mClient.query\u001b[0;34m(self, fields, geo, year, sort_by_geoid, **kwargs)\u001b[0m\n\u001b[1;32m    173\u001b[0m         fields \u001b[38;5;241m+\u001b[39m\u001b[38;5;241m=\u001b[39m (\u001b[38;5;124m'\u001b[39m\u001b[38;5;124mGEO_ID\u001b[39m\u001b[38;5;124m'\u001b[39m,)\n\u001b[1;32m    175\u001b[0m url \u001b[38;5;241m=\u001b[39m \u001b[38;5;28mself\u001b[39m\u001b[38;5;241m.\u001b[39mendpoint_url \u001b[38;5;241m%\u001b[39m (year, \u001b[38;5;28mself\u001b[39m\u001b[38;5;241m.\u001b[39mdataset)\n\u001b[1;32m    177\u001b[0m params \u001b[38;5;241m=\u001b[39m {\n\u001b[1;32m    178\u001b[0m     \u001b[38;5;124m'\u001b[39m\u001b[38;5;124mget\u001b[39m\u001b[38;5;124m'\u001b[39m: \u001b[38;5;124m\"\u001b[39m\u001b[38;5;124m,\u001b[39m\u001b[38;5;124m\"\u001b[39m\u001b[38;5;241m.\u001b[39mjoin(fields),\n\u001b[0;32m--> 179\u001b[0m     \u001b[38;5;124m'\u001b[39m\u001b[38;5;124mfor\u001b[39m\u001b[38;5;124m'\u001b[39m: \u001b[43mgeo\u001b[49m\u001b[43m[\u001b[49m\u001b[38;5;124;43m'\u001b[39;49m\u001b[38;5;124;43mfor\u001b[39;49m\u001b[38;5;124;43m'\u001b[39;49m\u001b[43m]\u001b[49m,\n\u001b[1;32m    180\u001b[0m     \u001b[38;5;124m'\u001b[39m\u001b[38;5;124mkey\u001b[39m\u001b[38;5;124m'\u001b[39m: \u001b[38;5;28mself\u001b[39m\u001b[38;5;241m.\u001b[39m_key,\n\u001b[1;32m    181\u001b[0m }\n\u001b[1;32m    183\u001b[0m \u001b[38;5;28;01mif\u001b[39;00m \u001b[38;5;124m'\u001b[39m\u001b[38;5;124min\u001b[39m\u001b[38;5;124m'\u001b[39m \u001b[38;5;129;01min\u001b[39;00m geo:\n\u001b[1;32m    184\u001b[0m     params[\u001b[38;5;124m'\u001b[39m\u001b[38;5;124min\u001b[39m\u001b[38;5;124m'\u001b[39m] \u001b[38;5;241m=\u001b[39m geo[\u001b[38;5;124m'\u001b[39m\u001b[38;5;124min\u001b[39m\u001b[38;5;124m'\u001b[39m]\n",
      "\u001b[0;31mTypeError\u001b[0m: string indices must be integers"
     ]
    }
   ],
   "source": [
    "c.acs5.get('S0101', geo=, year=2021)"
   ]
  }
 ],
 "metadata": {
  "kernelspec": {
   "display_name": "Python 3 (ipykernel)",
   "language": "python",
   "name": "python3"
  },
  "language_info": {
   "codemirror_mode": {
    "name": "ipython",
    "version": 3
   },
   "file_extension": ".py",
   "mimetype": "text/x-python",
   "name": "python",
   "nbconvert_exporter": "python",
   "pygments_lexer": "ipython3",
   "version": "3.8.13"
  }
 },
 "nbformat": 4,
 "nbformat_minor": 5
}
